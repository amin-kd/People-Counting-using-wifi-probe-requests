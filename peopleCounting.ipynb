{
  "nbformat": 4,
  "nbformat_minor": 0,
  "metadata": {
    "colab": {
      "provenance": [],
      "authorship_tag": "ABX9TyPHSAFRG18kQ69FtxLxdF4e",
      "include_colab_link": true
    },
    "kernelspec": {
      "name": "python3",
      "display_name": "Python 3"
    },
    "language_info": {
      "name": "python"
    }
  },
  "cells": [
    {
      "cell_type": "markdown",
      "metadata": {
        "id": "view-in-github",
        "colab_type": "text"
      },
      "source": [
        "<a href=\"https://colab.research.google.com/github/amin-kd/People-Counting-using-wifi-probe-requests/blob/main/peopleCounting.ipynb\" target=\"_parent\"><img src=\"https://colab.research.google.com/assets/colab-badge.svg\" alt=\"Open In Colab\"/></a>"
      ]
    },
    {
      "cell_type": "code",
      "execution_count": null,
      "metadata": {
        "id": "_vbos8m-A9Zs",
        "colab": {
          "base_uri": "https://localhost:8080/"
        },
        "outputId": "74246370-5efc-47ff-9bfe-f32ffaf82967",
        "collapsed": true
      },
      "outputs": [
        {
          "output_type": "stream",
          "name": "stdout",
          "text": [
            "Reading package lists... Done\n",
            "Building dependency tree... Done\n",
            "Reading state information... Done\n",
            "The following additional packages will be installed:\n",
            "  libbcg729-0 libc-ares2 liblua5.2-0 libnl-genl-3-200 libpcap0.8 libsbc1\n",
            "  libsmi2ldbl libspandsp2 libspeexdsp1 libwireshark-data libwireshark15\n",
            "  libwiretap12 libwsutil13 wireshark-common\n",
            "Suggested packages:\n",
            "  snmp-mibs-downloader geoipupdate geoip-database geoip-database-extra\n",
            "  libjs-leaflet libjs-leaflet.markercluster wireshark-doc\n",
            "The following NEW packages will be installed:\n",
            "  libbcg729-0 libc-ares2 liblua5.2-0 libnl-genl-3-200 libpcap0.8 libsbc1\n",
            "  libsmi2ldbl libspandsp2 libspeexdsp1 libwireshark-data libwireshark15\n",
            "  libwiretap12 libwsutil13 tshark wireshark-common\n",
            "0 upgraded, 15 newly installed, 0 to remove and 35 not upgraded.\n",
            "Need to get 23.0 MB of archives.\n",
            "After this operation, 120 MB of additional disk space will be used.\n",
            "Get:1 http://archive.ubuntu.com/ubuntu jammy-updates/main amd64 libpcap0.8 amd64 1.10.1-4ubuntu1.22.04.1 [145 kB]\n",
            "Get:2 http://archive.ubuntu.com/ubuntu jammy/universe amd64 libbcg729-0 amd64 1.1.1-2 [32.9 kB]\n",
            "Get:3 http://archive.ubuntu.com/ubuntu jammy/universe amd64 liblua5.2-0 amd64 5.2.4-2 [125 kB]\n",
            "Get:4 http://archive.ubuntu.com/ubuntu jammy/main amd64 libnl-genl-3-200 amd64 3.5.0-0.1 [12.4 kB]\n",
            "Get:5 http://archive.ubuntu.com/ubuntu jammy/universe amd64 libsmi2ldbl amd64 0.4.8+dfsg2-16 [100 kB]\n",
            "Get:6 http://archive.ubuntu.com/ubuntu jammy/universe amd64 libspandsp2 amd64 0.0.6+dfsg-2 [272 kB]\n",
            "Get:7 http://archive.ubuntu.com/ubuntu jammy/main amd64 libspeexdsp1 amd64 1.2~rc1.2-1.1ubuntu3 [42.5 kB]\n",
            "Get:8 http://archive.ubuntu.com/ubuntu jammy/universe amd64 libwireshark-data all 3.6.2-2 [1,647 kB]\n",
            "Get:9 http://archive.ubuntu.com/ubuntu jammy-updates/main amd64 libc-ares2 amd64 1.18.1-1ubuntu0.22.04.3 [45.1 kB]\n",
            "Get:10 http://archive.ubuntu.com/ubuntu jammy/main amd64 libsbc1 amd64 1.5-3build2 [34.4 kB]\n",
            "Get:11 http://archive.ubuntu.com/ubuntu jammy/universe amd64 libwsutil13 amd64 3.6.2-2 [99.2 kB]\n",
            "Get:12 http://archive.ubuntu.com/ubuntu jammy/universe amd64 libwiretap12 amd64 3.6.2-2 [255 kB]\n",
            "Get:13 http://archive.ubuntu.com/ubuntu jammy/universe amd64 libwireshark15 amd64 3.6.2-2 [19.5 MB]\n",
            "Get:14 http://archive.ubuntu.com/ubuntu jammy/universe amd64 wireshark-common amd64 3.6.2-2 [473 kB]\n",
            "Get:15 http://archive.ubuntu.com/ubuntu jammy/universe amd64 tshark amd64 3.6.2-2 [157 kB]\n",
            "Fetched 23.0 MB in 2s (13.8 MB/s)\n",
            "Preconfiguring packages ...\n",
            "Selecting previously unselected package libpcap0.8:amd64.\n",
            "(Reading database ... 126308 files and directories currently installed.)\n",
            "Preparing to unpack .../00-libpcap0.8_1.10.1-4ubuntu1.22.04.1_amd64.deb ...\n",
            "Unpacking libpcap0.8:amd64 (1.10.1-4ubuntu1.22.04.1) ...\n",
            "Selecting previously unselected package libbcg729-0:amd64.\n",
            "Preparing to unpack .../01-libbcg729-0_1.1.1-2_amd64.deb ...\n",
            "Unpacking libbcg729-0:amd64 (1.1.1-2) ...\n",
            "Selecting previously unselected package liblua5.2-0:amd64.\n",
            "Preparing to unpack .../02-liblua5.2-0_5.2.4-2_amd64.deb ...\n",
            "Unpacking liblua5.2-0:amd64 (5.2.4-2) ...\n",
            "Selecting previously unselected package libnl-genl-3-200:amd64.\n",
            "Preparing to unpack .../03-libnl-genl-3-200_3.5.0-0.1_amd64.deb ...\n",
            "Unpacking libnl-genl-3-200:amd64 (3.5.0-0.1) ...\n",
            "Selecting previously unselected package libsmi2ldbl:amd64.\n",
            "Preparing to unpack .../04-libsmi2ldbl_0.4.8+dfsg2-16_amd64.deb ...\n",
            "Unpacking libsmi2ldbl:amd64 (0.4.8+dfsg2-16) ...\n",
            "Selecting previously unselected package libspandsp2:amd64.\n",
            "Preparing to unpack .../05-libspandsp2_0.0.6+dfsg-2_amd64.deb ...\n",
            "Unpacking libspandsp2:amd64 (0.0.6+dfsg-2) ...\n",
            "Selecting previously unselected package libspeexdsp1:amd64.\n",
            "Preparing to unpack .../06-libspeexdsp1_1.2~rc1.2-1.1ubuntu3_amd64.deb ...\n",
            "Unpacking libspeexdsp1:amd64 (1.2~rc1.2-1.1ubuntu3) ...\n",
            "Selecting previously unselected package libwireshark-data.\n",
            "Preparing to unpack .../07-libwireshark-data_3.6.2-2_all.deb ...\n",
            "Unpacking libwireshark-data (3.6.2-2) ...\n",
            "Selecting previously unselected package libc-ares2:amd64.\n",
            "Preparing to unpack .../08-libc-ares2_1.18.1-1ubuntu0.22.04.3_amd64.deb ...\n",
            "Unpacking libc-ares2:amd64 (1.18.1-1ubuntu0.22.04.3) ...\n",
            "Selecting previously unselected package libsbc1:amd64.\n",
            "Preparing to unpack .../09-libsbc1_1.5-3build2_amd64.deb ...\n",
            "Unpacking libsbc1:amd64 (1.5-3build2) ...\n",
            "Selecting previously unselected package libwsutil13:amd64.\n",
            "Preparing to unpack .../10-libwsutil13_3.6.2-2_amd64.deb ...\n",
            "Unpacking libwsutil13:amd64 (3.6.2-2) ...\n",
            "Selecting previously unselected package libwiretap12:amd64.\n",
            "Preparing to unpack .../11-libwiretap12_3.6.2-2_amd64.deb ...\n",
            "Unpacking libwiretap12:amd64 (3.6.2-2) ...\n",
            "Selecting previously unselected package libwireshark15:amd64.\n",
            "Preparing to unpack .../12-libwireshark15_3.6.2-2_amd64.deb ...\n",
            "Unpacking libwireshark15:amd64 (3.6.2-2) ...\n",
            "Selecting previously unselected package wireshark-common.\n",
            "Preparing to unpack .../13-wireshark-common_3.6.2-2_amd64.deb ...\n",
            "Unpacking wireshark-common (3.6.2-2) ...\n",
            "Selecting previously unselected package tshark.\n",
            "Preparing to unpack .../14-tshark_3.6.2-2_amd64.deb ...\n",
            "Unpacking tshark (3.6.2-2) ...\n",
            "Setting up libsbc1:amd64 (1.5-3build2) ...\n",
            "Setting up libbcg729-0:amd64 (1.1.1-2) ...\n",
            "Setting up libc-ares2:amd64 (1.18.1-1ubuntu0.22.04.3) ...\n",
            "Setting up libspandsp2:amd64 (0.0.6+dfsg-2) ...\n",
            "Setting up libsmi2ldbl:amd64 (0.4.8+dfsg2-16) ...\n",
            "Setting up libwsutil13:amd64 (3.6.2-2) ...\n",
            "Setting up libpcap0.8:amd64 (1.10.1-4ubuntu1.22.04.1) ...\n",
            "Setting up libwiretap12:amd64 (3.6.2-2) ...\n",
            "Setting up libwireshark-data (3.6.2-2) ...\n",
            "Setting up liblua5.2-0:amd64 (5.2.4-2) ...\n",
            "Setting up libnl-genl-3-200:amd64 (3.5.0-0.1) ...\n",
            "Setting up libspeexdsp1:amd64 (1.2~rc1.2-1.1ubuntu3) ...\n",
            "Setting up libwireshark15:amd64 (3.6.2-2) ...\n",
            "Setting up wireshark-common (3.6.2-2) ...\n",
            "Setting up tshark (3.6.2-2) ...\n",
            "Processing triggers for hicolor-icon-theme (0.17-2) ...\n",
            "Processing triggers for libc-bin (2.35-0ubuntu3.8) ...\n",
            "/sbin/ldconfig.real: /usr/local/lib/libtbb.so.12 is not a symbolic link\n",
            "\n",
            "/sbin/ldconfig.real: /usr/local/lib/libhwloc.so.15 is not a symbolic link\n",
            "\n",
            "/sbin/ldconfig.real: /usr/local/lib/libtcm.so.1 is not a symbolic link\n",
            "\n",
            "/sbin/ldconfig.real: /usr/local/lib/libtbbbind_2_5.so.3 is not a symbolic link\n",
            "\n",
            "/sbin/ldconfig.real: /usr/local/lib/libur_loader.so.0 is not a symbolic link\n",
            "\n",
            "/sbin/ldconfig.real: /usr/local/lib/libtbbbind.so.3 is not a symbolic link\n",
            "\n",
            "/sbin/ldconfig.real: /usr/local/lib/libur_adapter_level_zero.so.0 is not a symbolic link\n",
            "\n",
            "/sbin/ldconfig.real: /usr/local/lib/libur_adapter_level_zero_v2.so.0 is not a symbolic link\n",
            "\n",
            "/sbin/ldconfig.real: /usr/local/lib/libtbbmalloc.so.2 is not a symbolic link\n",
            "\n",
            "/sbin/ldconfig.real: /usr/local/lib/libur_adapter_opencl.so.0 is not a symbolic link\n",
            "\n",
            "/sbin/ldconfig.real: /usr/local/lib/libtbbmalloc_proxy.so.2 is not a symbolic link\n",
            "\n",
            "/sbin/ldconfig.real: /usr/local/lib/libtcm_debug.so.1 is not a symbolic link\n",
            "\n",
            "/sbin/ldconfig.real: /usr/local/lib/libumf.so.0 is not a symbolic link\n",
            "\n",
            "/sbin/ldconfig.real: /usr/local/lib/libtbbbind_2_0.so.3 is not a symbolic link\n",
            "\n",
            "Processing triggers for man-db (2.10.2-1) ...\n",
            "Processing triggers for shared-mime-info (2.1-2) ...\n",
            "Collecting pyshark\n",
            "  Downloading pyshark-0.6-py3-none-any.whl.metadata (806 bytes)\n",
            "Requirement already satisfied: lxml in /usr/local/lib/python3.11/dist-packages (from pyshark) (5.4.0)\n",
            "Requirement already satisfied: termcolor in /usr/local/lib/python3.11/dist-packages (from pyshark) (3.1.0)\n",
            "Requirement already satisfied: packaging in /usr/local/lib/python3.11/dist-packages (from pyshark) (24.2)\n",
            "Collecting appdirs (from pyshark)\n",
            "  Downloading appdirs-1.4.4-py2.py3-none-any.whl.metadata (9.0 kB)\n",
            "Downloading pyshark-0.6-py3-none-any.whl (41 kB)\n",
            "\u001b[2K   \u001b[90m━━━━━━━━━━━━━━━━━━━━━━━━━━━━━━━━━━━━━━━━\u001b[0m \u001b[32m41.4/41.4 kB\u001b[0m \u001b[31m2.0 MB/s\u001b[0m eta \u001b[36m0:00:00\u001b[0m\n",
            "\u001b[?25hDownloading appdirs-1.4.4-py2.py3-none-any.whl (9.6 kB)\n",
            "Installing collected packages: appdirs, pyshark\n",
            "Successfully installed appdirs-1.4.4 pyshark-0.6\n"
          ]
        }
      ],
      "source": [
        "!apt-get install tshark\n",
        "!pip install pyshark"
      ]
    },
    {
      "cell_type": "code",
      "source": [
        "import os\n",
        "import nest_asyncio\n",
        "import pyshark\n",
        "from pyshark import FileCapture as pyshark_FileCapture\n",
        "import pandas as pd\n",
        "import numpy as np"
      ],
      "metadata": {
        "id": "bDNJjyq3CPhW"
      },
      "execution_count": null,
      "outputs": []
    },
    {
      "cell_type": "code",
      "source": [
        "nest_asyncio.apply() #enable async I/O on colab"
      ],
      "metadata": {
        "id": "tlcaRQj6XXAo"
      },
      "execution_count": null,
      "outputs": []
    },
    {
      "cell_type": "code",
      "source": [
        "probeRequests = pyshark_FileCapture('test1.pcapng', display_filter='wlan.fc.type_subtype == 0x04')"
      ],
      "metadata": {
        "id": "H28-vdANCRfx"
      },
      "execution_count": 43,
      "outputs": []
    },
    {
      "cell_type": "code",
      "source": [
        "feature_vectors = []\n",
        "\n",
        "\n",
        "for frame in probeRequests:\n",
        "  try:\n",
        "    layer = frame.layers\n",
        "    timestamp = float(frame.sniff_timestamp)\n",
        "    sa = layer[2].sa\n",
        "    rssi = layer[1].signal_dbm\n",
        "    dataRate = layer[1].data_rate\n",
        "    channel = layer[1].channel\n",
        "    frequency = layer[1].frequency\n",
        "    vendorOUI = sa[:8].upper()\n",
        "    firstByte = int(vendorOUI[0:2], 16)\n",
        "    windowId = int(timestamp) // 300 # for 5min intervals\n",
        "    # bitwise operation to check local admin bit.\n",
        "    LG = (firstByte & 0b10) == 0                 # True: Real Mac                                 False: Locally Administered (randomized)\n",
        "    IG = (firstByte & 0b01) == 0                 # True: Unicast                                  False: Multicast/Broadcast\n",
        "\n",
        "    ssid_temp = layer[3].wlan_ssid if hasattr(layer[3], 'wlan_ssid') else None\n",
        "    ssid = ssid_temp if ssid_temp != 'SSID: ' else None\n",
        "\n",
        "    feature_vector = {'timestamp': timestamp,'sa': sa, 'rssi': rssi, 'dataRate': dataRate,'ssid':ssid, 'frequency': frequency, 'channel': channel, 'LG': LG, 'IG': IG, 'windowId': windowId}\n",
        "    feature_vectors.append(feature_vector)\n",
        "\n",
        "  except (AttributeError, IndexError, ValueError) as e:\n",
        "    print(f\"frame cannot be processed: {e}\")\n",
        "    continue"
      ],
      "metadata": {
        "id": "ugnH3BqHVQhC"
      },
      "execution_count": 120,
      "outputs": []
    },
    {
      "cell_type": "code",
      "source": [
        "print(feature_vectors)"
      ],
      "metadata": {
        "colab": {
          "base_uri": "https://localhost:8080/"
        },
        "id": "zbvjqMpl38ee",
        "outputId": "e9527361-9654-40ef-dc8f-264b7aa90489"
      },
      "execution_count": 121,
      "outputs": [
        {
          "output_type": "stream",
          "name": "stdout",
          "text": [
            "[{'timestamp': 1751730347.389034, 'sa': 'a6:f6:0d:ca:4f:a2', 'rssi': '-85', 'dataRate': '5.5', 'ssid': None, 'frequency': '2412', 'channel': '1', 'LG': False, 'IG': True, 'windowId': 5839101}, {'timestamp': 1751730347.409142, 'sa': 'a6:f6:0d:ca:4f:a2', 'rssi': '-86', 'dataRate': '1', 'ssid': None, 'frequency': '2412', 'channel': '1', 'LG': False, 'IG': True, 'windowId': 5839101}, {'timestamp': 1751730347.429252, 'sa': 'a6:f6:0d:ca:4f:a2', 'rssi': '-85', 'dataRate': '1', 'ssid': None, 'frequency': '2412', 'channel': '1', 'LG': False, 'IG': True, 'windowId': 5839101}, {'timestamp': 1751730348.117669, 'sa': '04:0e:3c:6c:9d:97', 'rssi': '-90', 'dataRate': '1', 'ssid': 'TIM-27186405', 'frequency': '2412', 'channel': '1', 'LG': True, 'IG': True, 'windowId': 5839101}, {'timestamp': 1751730348.127811, 'sa': '04:0e:3c:6c:9d:97', 'rssi': '-91', 'dataRate': '1', 'ssid': 'TIM-27186405', 'frequency': '2412', 'channel': '1', 'LG': True, 'IG': True, 'windowId': 5839101}, {'timestamp': 1751730348.234431, 'sa': '20:28:bc:6f:d4:84', 'rssi': '-80', 'dataRate': '6', 'ssid': None, 'frequency': '2412', 'channel': '1', 'LG': True, 'IG': True, 'windowId': 5839101}, {'timestamp': 1751730349.44172, 'sa': '84:cc:a8:f5:dd:64', 'rssi': '-89', 'dataRate': '1', 'ssid': 'Home&Life SuperWiFi-3059', 'frequency': '2412', 'channel': '1', 'LG': True, 'IG': True, 'windowId': 5839101}, {'timestamp': 1751730350.079125, 'sa': '84:28:59:29:1a:17', 'rssi': '-87', 'dataRate': '1', 'ssid': \"Dania Marisol's Galaxy S22 Ultra\", 'frequency': '2412', 'channel': '1', 'LG': True, 'IG': True, 'windowId': 5839101}, {'timestamp': 1751730350.079734, 'sa': '84:28:59:29:1a:17', 'rssi': '-87', 'dataRate': '1', 'ssid': None, 'frequency': '2412', 'channel': '1', 'LG': True, 'IG': True, 'windowId': 5839101}, {'timestamp': 1751730350.175447, 'sa': '84:28:59:29:1a:17', 'rssi': '-89', 'dataRate': '1', 'ssid': \"Dania Marisol's Galaxy S22 Ultra\", 'frequency': '2412', 'channel': '1', 'LG': True, 'IG': True, 'windowId': 5839101}, {'timestamp': 1751730350.237496, 'sa': '20:28:bc:6f:d4:84', 'rssi': '-78', 'dataRate': '6', 'ssid': None, 'frequency': '2412', 'channel': '1', 'LG': True, 'IG': True, 'windowId': 5839101}, {'timestamp': 1751730351.308861, 'sa': '02:00:00:00:00:00', 'rssi': '-82', 'dataRate': '1', 'ssid': None, 'frequency': '2412', 'channel': '1', 'LG': False, 'IG': True, 'windowId': 5839101}, {'timestamp': 1751730351.85608, 'sa': '84:cc:a8:f5:dd:64', 'rssi': '-95', 'dataRate': '1', 'ssid': 'Home&Life SuperWiFi-3059', 'frequency': '2412', 'channel': '1', 'LG': True, 'IG': True, 'windowId': 5839101}, {'timestamp': 1751730352.214491, 'sa': 'a0:b5:3c:c7:99:0a', 'rssi': '-94', 'dataRate': '6', 'ssid': 'TIM-90109736', 'frequency': '2412', 'channel': '1', 'LG': True, 'IG': True, 'windowId': 5839101}, {'timestamp': 1751730352.239699, 'sa': '20:28:bc:6f:d4:84', 'rssi': '-78', 'dataRate': '6', 'ssid': None, 'frequency': '2412', 'channel': '1', 'LG': True, 'IG': True, 'windowId': 5839101}, {'timestamp': 1751730353.48747, 'sa': '18:fe:34:d8:ed:b5', 'rssi': '-91', 'dataRate': '1', 'ssid': 'Vodafone-A47744785', 'frequency': '2412', 'channel': '1', 'LG': True, 'IG': True, 'windowId': 5839101}, {'timestamp': 1751730354.241524, 'sa': '20:28:bc:6f:d4:84', 'rssi': '-78', 'dataRate': '6', 'ssid': None, 'frequency': '2412', 'channel': '1', 'LG': True, 'IG': True, 'windowId': 5839101}, {'timestamp': 1751730354.288708, 'sa': '70:87:a7:b3:3d:32', 'rssi': '-92', 'dataRate': '1', 'ssid': None, 'frequency': '2412', 'channel': '1', 'LG': True, 'IG': True, 'windowId': 5839101}, {'timestamp': 1751730354.328863, 'sa': '70:87:a7:b3:3d:32', 'rssi': '-92', 'dataRate': '1', 'ssid': None, 'frequency': '2412', 'channel': '1', 'LG': True, 'IG': True, 'windowId': 5839101}, {'timestamp': 1751730354.624393, 'sa': '0c:8c:24:a5:c7:ea', 'rssi': '-92', 'dataRate': '1', 'ssid': None, 'frequency': '2412', 'channel': '1', 'LG': True, 'IG': True, 'windowId': 5839101}, {'timestamp': 1751730354.901988, 'sa': '7e:f4:bd:7b:c7:88', 'rssi': '-84', 'dataRate': '1', 'ssid': 'TIM-14407435', 'frequency': '2412', 'channel': '1', 'LG': False, 'IG': True, 'windowId': 5839101}, {'timestamp': 1751730354.917004, 'sa': '7e:f4:bd:7b:c7:88', 'rssi': '-84', 'dataRate': '1', 'ssid': 'TIM-14407435', 'frequency': '2412', 'channel': '1', 'LG': False, 'IG': True, 'windowId': 5839101}, {'timestamp': 1751730355.205723, 'sa': '7e:f4:bd:7b:c7:88', 'rssi': '-84', 'dataRate': '1', 'ssid': 'TIM-14407435', 'frequency': '2412', 'channel': '1', 'LG': False, 'IG': True, 'windowId': 5839101}, {'timestamp': 1751730355.291631, 'sa': '7e:f4:bd:7b:c7:88', 'rssi': '-85', 'dataRate': '1', 'ssid': 'TIM-14407435', 'frequency': '2412', 'channel': '1', 'LG': False, 'IG': True, 'windowId': 5839101}, {'timestamp': 1751730355.777557, 'sa': '26:07:83:c6:0f:40', 'rssi': '-91', 'dataRate': '1', 'ssid': None, 'frequency': '2412', 'channel': '1', 'LG': False, 'IG': True, 'windowId': 5839101}, {'timestamp': 1751730356.244927, 'sa': '20:28:bc:6f:d4:84', 'rssi': '-75', 'dataRate': '6', 'ssid': None, 'frequency': '2412', 'channel': '1', 'LG': True, 'IG': True, 'windowId': 5839101}, {'timestamp': 1751730356.366113, 'sa': '02:00:00:00:00:00', 'rssi': '-86', 'dataRate': '1', 'ssid': None, 'frequency': '2412', 'channel': '1', 'LG': False, 'IG': True, 'windowId': 5839101}, {'timestamp': 1751730356.429421, 'sa': '02:00:00:00:00:00', 'rssi': '-86', 'dataRate': '1', 'ssid': None, 'frequency': '2412', 'channel': '1', 'LG': False, 'IG': True, 'windowId': 5839101}, {'timestamp': 1751730356.466354, 'sa': '02:00:00:00:00:00', 'rssi': '-85', 'dataRate': '1', 'ssid': None, 'frequency': '2412', 'channel': '1', 'LG': False, 'IG': True, 'windowId': 5839101}, {'timestamp': 1751730356.833521, 'sa': '66:e3:24:2a:22:a0', 'rssi': '-77', 'dataRate': '1', 'ssid': None, 'frequency': '2412', 'channel': '1', 'LG': False, 'IG': True, 'windowId': 5839101}, {'timestamp': 1751730356.871721, 'sa': '66:e3:24:2a:22:a0', 'rssi': '-77', 'dataRate': '1', 'ssid': None, 'frequency': '2412', 'channel': '1', 'LG': False, 'IG': True, 'windowId': 5839101}, {'timestamp': 1751730356.909517, 'sa': '66:e3:24:2a:22:a0', 'rssi': '-76', 'dataRate': '1', 'ssid': None, 'frequency': '2412', 'channel': '1', 'LG': False, 'IG': True, 'windowId': 5839101}, {'timestamp': 1751730356.935292, 'sa': '5a:9f:a6:31:be:c5', 'rssi': '-86', 'dataRate': '1', 'ssid': 'pr0d3stw1f1', 'frequency': '2412', 'channel': '1', 'LG': False, 'IG': True, 'windowId': 5839101}, {'timestamp': 1751730356.935996, 'sa': '5a:9f:a6:31:be:c5', 'rssi': '-86', 'dataRate': '1', 'ssid': None, 'frequency': '2412', 'channel': '1', 'LG': False, 'IG': True, 'windowId': 5839101}, {'timestamp': 1751730357.0261, 'sa': '66:e3:24:2a:22:a0', 'rssi': '-83', 'dataRate': '1', 'ssid': None, 'frequency': '2412', 'channel': '1', 'LG': False, 'IG': True, 'windowId': 5839101}, {'timestamp': 1751730357.630894, 'sa': 'b8:4d:43:fe:76:7c', 'rssi': '-91', 'dataRate': '1', 'ssid': None, 'frequency': '2412', 'channel': '1', 'LG': True, 'IG': True, 'windowId': 5839101}, {'timestamp': 1751730357.631793, 'sa': 'b8:4d:43:fe:76:7c', 'rssi': '-90', 'dataRate': '1', 'ssid': 'Vodafone-C00580189', 'frequency': '2412', 'channel': '1', 'LG': True, 'IG': True, 'windowId': 5839101}, {'timestamp': 1751730358.245607, 'sa': '20:28:bc:6f:d4:84', 'rssi': '-80', 'dataRate': '6', 'ssid': None, 'frequency': '2412', 'channel': '1', 'LG': True, 'IG': True, 'windowId': 5839101}, {'timestamp': 1751730358.784496, 'sa': '84:cc:a8:f5:dd:64', 'rssi': '-95', 'dataRate': '1', 'ssid': None, 'frequency': '2412', 'channel': '1', 'LG': True, 'IG': True, 'windowId': 5839101}, {'timestamp': 1751730359.648803, 'sa': '0c:8c:24:a5:c7:ea', 'rssi': '-90', 'dataRate': '1', 'ssid': None, 'frequency': '2412', 'channel': '1', 'LG': True, 'IG': True, 'windowId': 5839101}, {'timestamp': 1751730359.649442, 'sa': '0c:8c:24:a5:c7:ea', 'rssi': '-91', 'dataRate': '1', 'ssid': None, 'frequency': '2412', 'channel': '1', 'LG': True, 'IG': True, 'windowId': 5839101}, {'timestamp': 1751730359.921052, 'sa': 'd4:9d:c0:50:c4:74', 'rssi': '-90', 'dataRate': '1', 'ssid': None, 'frequency': '2412', 'channel': '1', 'LG': True, 'IG': True, 'windowId': 5839101}, {'timestamp': 1751730360.252993, 'sa': '20:28:bc:6f:d4:84', 'rssi': '-80', 'dataRate': '6', 'ssid': None, 'frequency': '2412', 'channel': '1', 'LG': True, 'IG': True, 'windowId': 5839101}, {'timestamp': 1751730360.674152, 'sa': 'd4:9d:c0:50:c4:74', 'rssi': '-91', 'dataRate': '1', 'ssid': 'Vodafone-A52003735_EXT', 'frequency': '2412', 'channel': '1', 'LG': True, 'IG': True, 'windowId': 5839101}, {'timestamp': 1751730360.674806, 'sa': 'd4:9d:c0:50:c4:74', 'rssi': '-91', 'dataRate': '1', 'ssid': 'Vodafone-77020272', 'frequency': '2412', 'channel': '1', 'LG': True, 'IG': True, 'windowId': 5839101}, {'timestamp': 1751730360.67548, 'sa': 'd4:9d:c0:50:c4:74', 'rssi': '-90', 'dataRate': '1', 'ssid': None, 'frequency': '2412', 'channel': '1', 'LG': True, 'IG': True, 'windowId': 5839101}, {'timestamp': 1751730360.709331, 'sa': 'd4:9d:c0:50:c4:74', 'rssi': '-89', 'dataRate': '1', 'ssid': 'Vodafone-A52003735_EXT', 'frequency': '2412', 'channel': '1', 'LG': True, 'IG': True, 'windowId': 5839101}, {'timestamp': 1751730360.960249, 'sa': '18:fe:34:d8:ed:b5', 'rssi': '-89', 'dataRate': '1', 'ssid': 'Vodafone-A47744785', 'frequency': '2412', 'channel': '1', 'LG': True, 'IG': True, 'windowId': 5839101}, {'timestamp': 1751730361.17383, 'sa': 'ba:d2:12:89:47:99', 'rssi': '-90', 'dataRate': '1', 'ssid': None, 'frequency': '2412', 'channel': '1', 'LG': False, 'IG': True, 'windowId': 5839101}, {'timestamp': 1751730361.351289, 'sa': '02:00:00:00:00:00', 'rssi': '-86', 'dataRate': '1', 'ssid': None, 'frequency': '2412', 'channel': '1', 'LG': False, 'IG': True, 'windowId': 5839101}, {'timestamp': 1751730361.388161, 'sa': '02:00:00:00:00:00', 'rssi': '-86', 'dataRate': '1', 'ssid': None, 'frequency': '2412', 'channel': '1', 'LG': False, 'IG': True, 'windowId': 5839101}, {'timestamp': 1751730361.467128, 'sa': '02:00:00:00:00:00', 'rssi': '-86', 'dataRate': '1', 'ssid': None, 'frequency': '2412', 'channel': '1', 'LG': False, 'IG': True, 'windowId': 5839101}, {'timestamp': 1751730361.854401, 'sa': 'ec:0d:e4:64:7d:e3', 'rssi': '-91', 'dataRate': '1', 'ssid': None, 'frequency': '2412', 'channel': '1', 'LG': True, 'IG': True, 'windowId': 5839101}, {'timestamp': 1751730362.250822, 'sa': '20:28:bc:6f:d4:84', 'rssi': '-79', 'dataRate': '6', 'ssid': None, 'frequency': '2412', 'channel': '1', 'LG': True, 'IG': True, 'windowId': 5839101}, {'timestamp': 1751730363.197243, 'sa': 'b6:3a:f0:9c:05:a4', 'rssi': '-89', 'dataRate': '1', 'ssid': None, 'frequency': '2412', 'channel': '1', 'LG': False, 'IG': True, 'windowId': 5839101}, {'timestamp': 1751730364.092688, 'sa': '18:fe:34:d8:ed:b5', 'rssi': '-91', 'dataRate': '1', 'ssid': 'Vodafone-A47744785', 'frequency': '2412', 'channel': '1', 'LG': True, 'IG': True, 'windowId': 5839101}, {'timestamp': 1751730364.253049, 'sa': '20:28:bc:6f:d4:84', 'rssi': '-79', 'dataRate': '6', 'ssid': None, 'frequency': '2412', 'channel': '1', 'LG': True, 'IG': True, 'windowId': 5839101}, {'timestamp': 1751730364.673471, 'sa': '94:39:e5:c6:9c:f9', 'rssi': '-85', 'dataRate': '1', 'ssid': None, 'frequency': '2412', 'channel': '1', 'LG': True, 'IG': True, 'windowId': 5839101}, {'timestamp': 1751730364.772054, 'sa': '0c:8c:24:a5:c7:ea', 'rssi': '-90', 'dataRate': '1', 'ssid': None, 'frequency': '2412', 'channel': '1', 'LG': True, 'IG': True, 'windowId': 5839101}, {'timestamp': 1751730364.772669, 'sa': '0c:8c:24:a5:c7:ea', 'rssi': '-89', 'dataRate': '1', 'ssid': None, 'frequency': '2412', 'channel': '1', 'LG': True, 'IG': True, 'windowId': 5839101}, {'timestamp': 1751730365.02323, 'sa': '94:39:e5:c6:9c:f9', 'rssi': '-81', 'dataRate': '1', 'ssid': None, 'frequency': '2412', 'channel': '1', 'LG': True, 'IG': True, 'windowId': 5839101}, {'timestamp': 1751730365.047231, 'sa': '94:39:e5:c6:9c:f9', 'rssi': '-91', 'dataRate': '1', 'ssid': None, 'frequency': '2412', 'channel': '1', 'LG': True, 'IG': True, 'windowId': 5839101}, {'timestamp': 1751730365.611316, 'sa': '84:28:59:29:1a:17', 'rssi': '-87', 'dataRate': '1', 'ssid': \"Dania Marisol's Galaxy S22 Ultra\", 'frequency': '2412', 'channel': '1', 'LG': True, 'IG': True, 'windowId': 5839101}, {'timestamp': 1751730366.254643, 'sa': '20:28:bc:6f:d4:84', 'rssi': '-79', 'dataRate': '6', 'ssid': None, 'frequency': '2412', 'channel': '1', 'LG': True, 'IG': True, 'windowId': 5839101}, {'timestamp': 1751730366.343956, 'sa': '02:00:00:00:00:00', 'rssi': '-85', 'dataRate': '1', 'ssid': None, 'frequency': '2412', 'channel': '1', 'LG': False, 'IG': True, 'windowId': 5839101}, {'timestamp': 1751730366.385261, 'sa': '02:00:00:00:00:00', 'rssi': '-85', 'dataRate': '1', 'ssid': None, 'frequency': '2412', 'channel': '1', 'LG': False, 'IG': True, 'windowId': 5839101}, {'timestamp': 1751730366.422319, 'sa': '02:00:00:00:00:00', 'rssi': '-85', 'dataRate': '1', 'ssid': None, 'frequency': '2412', 'channel': '1', 'LG': False, 'IG': True, 'windowId': 5839101}, {'timestamp': 1751730366.636865, 'sa': '58:b1:0f:09:7a:74', 'rssi': '-94', 'dataRate': '1', 'ssid': 'WINDTRE-07ACA8', 'frequency': '2412', 'channel': '1', 'LG': True, 'IG': True, 'windowId': 5839101}, {'timestamp': 1751730367.17389, 'sa': '02:9d:6b:d7:3a:23', 'rssi': '-90', 'dataRate': '1', 'ssid': None, 'frequency': '2412', 'channel': '1', 'LG': False, 'IG': True, 'windowId': 5839101}, {'timestamp': 1751730368.258482, 'sa': '20:28:bc:6f:d4:84', 'rssi': '-79', 'dataRate': '6', 'ssid': None, 'frequency': '2412', 'channel': '1', 'LG': True, 'IG': True, 'windowId': 5839101}, {'timestamp': 1751730369.049421, 'sa': 'ea:66:80:72:8b:ad', 'rssi': '-93', 'dataRate': '1', 'ssid': None, 'frequency': '2412', 'channel': '1', 'LG': False, 'IG': True, 'windowId': 5839101}, {'timestamp': 1751730369.55975, 'sa': 'ec:0d:e4:64:7d:e3', 'rssi': '-91', 'dataRate': '1', 'ssid': 'Pino', 'frequency': '2412', 'channel': '1', 'LG': True, 'IG': True, 'windowId': 5839101}, {'timestamp': 1751730369.560721, 'sa': 'ec:0d:e4:64:7d:e3', 'rssi': '-90', 'dataRate': '1', 'ssid': None, 'frequency': '2412', 'channel': '1', 'LG': True, 'IG': True, 'windowId': 5839101}, {'timestamp': 1751730370.096438, 'sa': '7e:67:2b:e2:e5:8d', 'rssi': '-89', 'dataRate': '1', 'ssid': None, 'frequency': '2412', 'channel': '1', 'LG': False, 'IG': True, 'windowId': 5839101}, {'timestamp': 1751730370.259797, 'sa': '20:28:bc:6f:d4:84', 'rssi': '-79', 'dataRate': '6', 'ssid': None, 'frequency': '2412', 'channel': '1', 'LG': True, 'IG': True, 'windowId': 5839101}, {'timestamp': 1751730370.347106, 'sa': '18:fe:34:d8:ed:b5', 'rssi': '-90', 'dataRate': '1', 'ssid': 'Vodafone-A47744785', 'frequency': '2412', 'channel': '1', 'LG': True, 'IG': True, 'windowId': 5839101}, {'timestamp': 1751730370.357183, 'sa': 'c0:a3:6e:c5:fa:4c', 'rssi': '-94', 'dataRate': '1', 'ssid': None, 'frequency': '2412', 'channel': '1', 'LG': True, 'IG': True, 'windowId': 5839101}, {'timestamp': 1751730371.407707, 'sa': '02:00:00:00:00:00', 'rssi': '-86', 'dataRate': '1', 'ssid': None, 'frequency': '2412', 'channel': '1', 'LG': False, 'IG': True, 'windowId': 5839101}, {'timestamp': 1751730371.444666, 'sa': '02:00:00:00:00:00', 'rssi': '-86', 'dataRate': '1', 'ssid': None, 'frequency': '2412', 'channel': '1', 'LG': False, 'IG': True, 'windowId': 5839101}, {'timestamp': 1751730372.261866, 'sa': '20:28:bc:6f:d4:84', 'rssi': '-80', 'dataRate': '6', 'ssid': None, 'frequency': '2412', 'channel': '1', 'LG': True, 'IG': True, 'windowId': 5839101}, {'timestamp': 1751730373.403747, 'sa': '84:28:59:29:1a:17', 'rssi': '-87', 'dataRate': '1', 'ssid': \"Dania Marisol's Galaxy S22 Ultra\", 'frequency': '2412', 'channel': '1', 'LG': True, 'IG': True, 'windowId': 5839101}, {'timestamp': 1751730373.404402, 'sa': '84:28:59:29:1a:17', 'rssi': '-87', 'dataRate': '1', 'ssid': None, 'frequency': '2412', 'channel': '1', 'LG': True, 'IG': True, 'windowId': 5839101}, {'timestamp': 1751730373.475883, 'sa': '18:fe:34:d8:ed:b5', 'rssi': '-90', 'dataRate': '1', 'ssid': 'Vodafone-A47744785', 'frequency': '2412', 'channel': '1', 'LG': True, 'IG': True, 'windowId': 5839101}, {'timestamp': 1751730373.630838, 'sa': '18:fe:34:d8:ed:b5', 'rssi': '-90', 'dataRate': '1', 'ssid': 'Vodafone-A47744785', 'frequency': '2412', 'channel': '1', 'LG': True, 'IG': True, 'windowId': 5839101}, {'timestamp': 1751730374.267616, 'sa': '20:28:bc:6f:d4:84', 'rssi': '-79', 'dataRate': '6', 'ssid': None, 'frequency': '2412', 'channel': '1', 'LG': True, 'IG': True, 'windowId': 5839101}, {'timestamp': 1751730374.882575, 'sa': '0c:8c:24:a5:c7:ea', 'rssi': '-90', 'dataRate': '1', 'ssid': None, 'frequency': '2412', 'channel': '1', 'LG': True, 'IG': True, 'windowId': 5839101}, {'timestamp': 1751730376.265801, 'sa': '20:28:bc:6f:d4:84', 'rssi': '-76', 'dataRate': '6', 'ssid': None, 'frequency': '2412', 'channel': '1', 'LG': True, 'IG': True, 'windowId': 5839101}, {'timestamp': 1751730376.401355, 'sa': '02:00:00:00:00:00', 'rssi': '-85', 'dataRate': '1', 'ssid': None, 'frequency': '2412', 'channel': '1', 'LG': False, 'IG': True, 'windowId': 5839101}, {'timestamp': 1751730376.500978, 'sa': '02:00:00:00:00:00', 'rssi': '-84', 'dataRate': '1', 'ssid': None, 'frequency': '2412', 'channel': '1', 'LG': False, 'IG': True, 'windowId': 5839101}, {'timestamp': 1751730376.946602, 'sa': '96:0d:05:ee:bd:53', 'rssi': '-91', 'dataRate': '1', 'ssid': None, 'frequency': '2412', 'channel': '1', 'LG': False, 'IG': True, 'windowId': 5839101}, {'timestamp': 1751730377.828569, 'sa': '18:fe:34:d8:ed:b5', 'rssi': '-90', 'dataRate': '1', 'ssid': 'Vodafone-A47744785', 'frequency': '2412', 'channel': '1', 'LG': True, 'IG': True, 'windowId': 5839101}, {'timestamp': 1751730378.267858, 'sa': '20:28:bc:6f:d4:84', 'rssi': '-77', 'dataRate': '6', 'ssid': None, 'frequency': '2412', 'channel': '1', 'LG': True, 'IG': True, 'windowId': 5839101}, {'timestamp': 1751730378.733165, 'sa': '04:0e:3c:6c:9d:97', 'rssi': '-95', 'dataRate': '1', 'ssid': 'TIM-27186405', 'frequency': '2412', 'channel': '1', 'LG': True, 'IG': True, 'windowId': 5839101}, {'timestamp': 1751730379.930532, 'sa': '0c:8c:24:a5:c7:ea', 'rssi': '-91', 'dataRate': '1', 'ssid': None, 'frequency': '2412', 'channel': '1', 'LG': True, 'IG': True, 'windowId': 5839101}, {'timestamp': 1751730379.993133, 'sa': '9a:c6:8d:ef:94:5c', 'rssi': '-91', 'dataRate': '1', 'ssid': None, 'frequency': '2412', 'channel': '1', 'LG': False, 'IG': True, 'windowId': 5839101}, {'timestamp': 1751730380.270921, 'sa': '20:28:bc:6f:d4:84', 'rssi': '-80', 'dataRate': '6', 'ssid': None, 'frequency': '2412', 'channel': '1', 'LG': True, 'IG': True, 'windowId': 5839101}, {'timestamp': 1751730381.205537, 'sa': '84:28:59:29:1a:17', 'rssi': '-89', 'dataRate': '1', 'ssid': \"Dania Marisol's Galaxy S22 Ultra\", 'frequency': '2412', 'channel': '1', 'LG': True, 'IG': True, 'windowId': 5839101}, {'timestamp': 1751730381.206171, 'sa': '84:28:59:29:1a:17', 'rssi': '-89', 'dataRate': '1', 'ssid': None, 'frequency': '2412', 'channel': '1', 'LG': True, 'IG': True, 'windowId': 5839101}, {'timestamp': 1751730381.424789, 'sa': '02:00:00:00:00:00', 'rssi': '-87', 'dataRate': '1', 'ssid': None, 'frequency': '2412', 'channel': '1', 'LG': False, 'IG': True, 'windowId': 5839101}, {'timestamp': 1751730381.461668, 'sa': '02:00:00:00:00:00', 'rssi': '-85', 'dataRate': '1', 'ssid': None, 'frequency': '2412', 'channel': '1', 'LG': False, 'IG': True, 'windowId': 5839101}, {'timestamp': 1751730381.498589, 'sa': '02:00:00:00:00:00', 'rssi': '-86', 'dataRate': '1', 'ssid': None, 'frequency': '2412', 'channel': '1', 'LG': False, 'IG': True, 'windowId': 5839101}, {'timestamp': 1751730382.275726, 'sa': '20:28:bc:6f:d4:84', 'rssi': '-78', 'dataRate': '6', 'ssid': None, 'frequency': '2412', 'channel': '1', 'LG': True, 'IG': True, 'windowId': 5839101}, {'timestamp': 1751730384.9834, 'sa': '0c:8c:24:a5:c7:ea', 'rssi': '-91', 'dataRate': '1', 'ssid': None, 'frequency': '2412', 'channel': '1', 'LG': True, 'IG': True, 'windowId': 5839101}, {'timestamp': 1751730385.199426, 'sa': '00:51:ed:31:1e:63', 'rssi': '-81', 'dataRate': '1', 'ssid': None, 'frequency': '2412', 'channel': '1', 'LG': True, 'IG': True, 'windowId': 5839101}, {'timestamp': 1751730385.201478, 'sa': '00:51:ed:31:1e:63', 'rssi': '-81', 'dataRate': '1', 'ssid': None, 'frequency': '2412', 'channel': '1', 'LG': True, 'IG': True, 'windowId': 5839101}, {'timestamp': 1751730385.210333, 'sa': '00:51:ed:31:1e:63', 'rssi': '-81', 'dataRate': '1', 'ssid': None, 'frequency': '2412', 'channel': '1', 'LG': True, 'IG': True, 'windowId': 5839101}, {'timestamp': 1751730385.499371, 'sa': '84:cc:a8:f5:dd:64', 'rssi': '-94', 'dataRate': '1', 'ssid': None, 'frequency': '2412', 'channel': '1', 'LG': True, 'IG': True, 'windowId': 5839101}, {'timestamp': 1751730386.253056, 'sa': 'a0:b5:3c:c7:99:0a', 'rssi': '-93', 'dataRate': '6', 'ssid': 'TIM-90109736', 'frequency': '2412', 'channel': '1', 'LG': True, 'IG': True, 'windowId': 5839101}, {'timestamp': 1751730386.279494, 'sa': '20:28:bc:6f:d4:84', 'rssi': '-80', 'dataRate': '6', 'ssid': None, 'frequency': '2412', 'channel': '1', 'LG': True, 'IG': True, 'windowId': 5839101}, {'timestamp': 1751730386.430345, 'sa': '02:00:00:00:00:00', 'rssi': '-85', 'dataRate': '1', 'ssid': None, 'frequency': '2412', 'channel': '1', 'LG': False, 'IG': True, 'windowId': 5839101}, {'timestamp': 1751730386.605538, 'sa': '7e:f4:bd:7b:c7:88', 'rssi': '-85', 'dataRate': '1', 'ssid': None, 'frequency': '2412', 'channel': '1', 'LG': False, 'IG': True, 'windowId': 5839101}, {'timestamp': 1751730387.824179, 'sa': 'f8:04:2e:27:b1:06', 'rssi': '-95', 'dataRate': '1', 'ssid': None, 'frequency': '2412', 'channel': '1', 'LG': True, 'IG': True, 'windowId': 5839101}, {'timestamp': 1751730388.713933, 'sa': '84:cc:a8:f5:dd:64', 'rssi': '-91', 'dataRate': '1', 'ssid': 'Home&Life SuperWiFi-3059', 'frequency': '2412', 'channel': '1', 'LG': True, 'IG': True, 'windowId': 5839101}, {'timestamp': 1751730388.941051, 'sa': '84:28:59:29:1a:17', 'rssi': '-89', 'dataRate': '1', 'ssid': \"Dania Marisol's Galaxy S22 Ultra\", 'frequency': '2412', 'channel': '1', 'LG': True, 'IG': True, 'windowId': 5839101}, {'timestamp': 1751730388.941721, 'sa': '84:28:59:29:1a:17', 'rssi': '-89', 'dataRate': '1', 'ssid': None, 'frequency': '2412', 'channel': '1', 'LG': True, 'IG': True, 'windowId': 5839101}, {'timestamp': 1751730390.019046, 'sa': '0c:8c:24:a5:c7:ea', 'rssi': '-92', 'dataRate': '1', 'ssid': None, 'frequency': '2412', 'channel': '1', 'LG': True, 'IG': True, 'windowId': 5839101}, {'timestamp': 1751730390.282114, 'sa': '20:28:bc:6f:d4:84', 'rssi': '-78', 'dataRate': '6', 'ssid': None, 'frequency': '2412', 'channel': '1', 'LG': True, 'IG': True, 'windowId': 5839101}, {'timestamp': 1751730390.344576, 'sa': '18:fe:34:d8:ed:b5', 'rssi': '-87', 'dataRate': '1', 'ssid': 'Vodafone-A47744785', 'frequency': '2412', 'channel': '1', 'LG': True, 'IG': True, 'windowId': 5839101}, {'timestamp': 1751730390.496116, 'sa': '18:fe:34:d8:ed:b5', 'rssi': '-88', 'dataRate': '1', 'ssid': 'Vodafone-A47744785', 'frequency': '2412', 'channel': '1', 'LG': True, 'IG': True, 'windowId': 5839101}, {'timestamp': 1751730391.471719, 'sa': '02:00:00:00:00:00', 'rssi': '-81', 'dataRate': '1', 'ssid': None, 'frequency': '2412', 'channel': '1', 'LG': False, 'IG': True, 'windowId': 5839101}, {'timestamp': 1751730391.663812, 'sa': '02:00:00:00:00:00', 'rssi': '-80', 'dataRate': '1', 'ssid': None, 'frequency': '2412', 'channel': '1', 'LG': False, 'IG': True, 'windowId': 5839101}, {'timestamp': 1751730391.680192, 'sa': 'be:fb:d7:0f:e3:31', 'rssi': '-75', 'dataRate': '1', 'ssid': None, 'frequency': '2412', 'channel': '1', 'LG': False, 'IG': True, 'windowId': 5839101}, {'timestamp': 1751730391.691054, 'sa': 'be:fb:d7:0f:e3:31', 'rssi': '-75', 'dataRate': '1', 'ssid': None, 'frequency': '2412', 'channel': '1', 'LG': False, 'IG': True, 'windowId': 5839101}, {'timestamp': 1751730392.287169, 'sa': '20:28:bc:6f:d4:84', 'rssi': '-76', 'dataRate': '6', 'ssid': None, 'frequency': '2412', 'channel': '1', 'LG': True, 'IG': True, 'windowId': 5839101}, {'timestamp': 1751730393.356361, 'sa': 'f8:04:2e:27:b1:06', 'rssi': '-93', 'dataRate': '1', 'ssid': None, 'frequency': '2412', 'channel': '1', 'LG': True, 'IG': True, 'windowId': 5839101}, {'timestamp': 1751730393.473454, 'sa': '18:fe:34:d8:ed:b5', 'rssi': '-90', 'dataRate': '1', 'ssid': 'Vodafone-A47744785', 'frequency': '2412', 'channel': '1', 'LG': True, 'IG': True, 'windowId': 5839101}, {'timestamp': 1751730393.756927, 'sa': 'b6:92:b1:6d:d9:ff', 'rssi': '-81', 'dataRate': '1', 'ssid': None, 'frequency': '2412', 'channel': '1', 'LG': False, 'IG': True, 'windowId': 5839101}, {'timestamp': 1751730393.804477, 'sa': 'b6:92:b1:6d:d9:ff', 'rssi': '-80', 'dataRate': '1', 'ssid': None, 'frequency': '2412', 'channel': '1', 'LG': False, 'IG': True, 'windowId': 5839101}, {'timestamp': 1751730395.522464, 'sa': 'de:2c:bc:66:44:50', 'rssi': '-90', 'dataRate': '1', 'ssid': 'FASTWEB-GDMHY6', 'frequency': '2412', 'channel': '1', 'LG': False, 'IG': True, 'windowId': 5839101}, {'timestamp': 1751730395.542771, 'sa': 'de:2c:bc:66:44:50', 'rssi': '-91', 'dataRate': '1', 'ssid': 'FASTWEB-GDMHY6', 'frequency': '2412', 'channel': '1', 'LG': False, 'IG': True, 'windowId': 5839101}, {'timestamp': 1751730396.288167, 'sa': '20:28:bc:6f:d4:84', 'rssi': '-79', 'dataRate': '6', 'ssid': None, 'frequency': '2412', 'channel': '1', 'LG': True, 'IG': True, 'windowId': 5839101}, {'timestamp': 1751730396.548995, 'sa': '02:00:00:00:00:00', 'rssi': '-85', 'dataRate': '1', 'ssid': None, 'frequency': '2412', 'channel': '1', 'LG': False, 'IG': True, 'windowId': 5839101}, {'timestamp': 1751730396.588334, 'sa': '02:00:00:00:00:00', 'rssi': '-85', 'dataRate': '1', 'ssid': None, 'frequency': '2412', 'channel': '1', 'LG': False, 'IG': True, 'windowId': 5839101}, {'timestamp': 1751730396.707603, 'sa': '84:28:59:29:1a:17', 'rssi': '-89', 'dataRate': '1', 'ssid': \"Dania Marisol's Galaxy S22 Ultra\", 'frequency': '2412', 'channel': '1', 'LG': True, 'IG': True, 'windowId': 5839101}, {'timestamp': 1751730396.708171, 'sa': '84:28:59:29:1a:17', 'rssi': '-89', 'dataRate': '1', 'ssid': None, 'frequency': '2412', 'channel': '1', 'LG': True, 'IG': True, 'windowId': 5839101}, {'timestamp': 1751730396.946562, 'sa': '86:ca:a5:ca:f4:bc', 'rssi': '-91', 'dataRate': '1', 'ssid': None, 'frequency': '2412', 'channel': '1', 'LG': False, 'IG': True, 'windowId': 5839101}, {'timestamp': 1751730397.182802, 'sa': '8a:e4:c7:46:56:18', 'rssi': '-39', 'dataRate': '1', 'ssid': None, 'frequency': '2412', 'channel': '1', 'LG': False, 'IG': True, 'windowId': 5839101}, {'timestamp': 1751730397.192963, 'sa': '8a:e4:c7:46:56:18', 'rssi': '-39', 'dataRate': '1', 'ssid': None, 'frequency': '2412', 'channel': '1', 'LG': False, 'IG': True, 'windowId': 5839101}, {'timestamp': 1751730397.831455, 'sa': '18:fe:34:d8:ed:b5', 'rssi': '-88', 'dataRate': '1', 'ssid': 'Vodafone-A47744785', 'frequency': '2412', 'channel': '1', 'LG': True, 'IG': True, 'windowId': 5839101}, {'timestamp': 1751730397.961617, 'sa': '84:cc:a8:f5:dd:64', 'rssi': '-93', 'dataRate': '1', 'ssid': 'Home&Life SuperWiFi-3059', 'frequency': '2412', 'channel': '1', 'LG': True, 'IG': True, 'windowId': 5839101}, {'timestamp': 1751730398.290209, 'sa': '20:28:bc:6f:d4:84', 'rssi': '-77', 'dataRate': '6', 'ssid': None, 'frequency': '2412', 'channel': '1', 'LG': True, 'IG': True, 'windowId': 5839101}, {'timestamp': 1751730399.357472, 'sa': '70:87:a7:b3:3d:32', 'rssi': '-92', 'dataRate': '1', 'ssid': None, 'frequency': '2412', 'channel': '1', 'LG': True, 'IG': True, 'windowId': 5839101}, {'timestamp': 1751730400.177726, 'sa': '0c:8c:24:a5:c7:ea', 'rssi': '-94', 'dataRate': '1', 'ssid': None, 'frequency': '2412', 'channel': '1', 'LG': True, 'IG': True, 'windowId': 5839101}, {'timestamp': 1751730400.178312, 'sa': '0c:8c:24:a5:c7:ea', 'rssi': '-94', 'dataRate': '1', 'ssid': None, 'frequency': '2412', 'channel': '1', 'LG': True, 'IG': True, 'windowId': 5839101}, {'timestamp': 1751730400.293311, 'sa': '20:28:bc:6f:d4:84', 'rssi': '-77', 'dataRate': '6', 'ssid': None, 'frequency': '2412', 'channel': '1', 'LG': True, 'IG': True, 'windowId': 5839101}, {'timestamp': 1751730401.092941, 'sa': '10:0b:a9:23:19:fc', 'rssi': '-86', 'dataRate': '1', 'ssid': 'Vodafone5GHz-Casa Nex', 'frequency': '2412', 'channel': '1', 'LG': True, 'IG': True, 'windowId': 5839101}, {'timestamp': 1751730401.543758, 'sa': '02:00:00:00:00:00', 'rssi': '-86', 'dataRate': '1', 'ssid': None, 'frequency': '2412', 'channel': '1', 'LG': False, 'IG': True, 'windowId': 5839101}]\n"
          ]
        }
      ]
    }
  ]
}